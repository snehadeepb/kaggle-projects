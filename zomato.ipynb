{
 "cells": [
  {
   "cell_type": "code",
   "execution_count": 1,
   "id": "2efee493",
   "metadata": {
    "_cell_guid": "b1076dfc-b9ad-4769-8c92-a6c4dae69d19",
    "_uuid": "8f2839f25d086af736a60e9eeb907d3b93b6e0e5",
    "execution": {
     "iopub.execute_input": "2022-10-19T06:02:05.126633Z",
     "iopub.status.busy": "2022-10-19T06:02:05.126221Z",
     "iopub.status.idle": "2022-10-19T06:02:05.143049Z",
     "shell.execute_reply": "2022-10-19T06:02:05.141650Z"
    },
    "papermill": {
     "duration": 0.029546,
     "end_time": "2022-10-19T06:02:05.145446",
     "exception": false,
     "start_time": "2022-10-19T06:02:05.115900",
     "status": "completed"
    },
    "tags": []
   },
   "outputs": [
    {
     "name": "stdout",
     "output_type": "stream",
     "text": [
      "/kaggle/input/zomato-eda/zomato.csv\n"
     ]
    }
   ],
   "source": [
    "# This Python 3 environment comes with many helpful analytics libraries installed\n",
    "# It is defined by the kaggle/python Docker image: https://github.com/kaggle/docker-python\n",
    "# For example, here's several helpful packages to load\n",
    "\n",
    "import numpy as np # linear algebra\n",
    "import pandas as pd # data processing, CSV file I/O (e.g. pd.read_csv)\n",
    "\n",
    "# Input data files are available in the read-only \"../input/\" directory\n",
    "# For example, running this (by clicking run or pressing Shift+Enter) will list all files under the input directory\n",
    "\n",
    "import os\n",
    "for dirname, _, filenames in os.walk('/kaggle/input'):\n",
    "    for filename in filenames:\n",
    "        print(os.path.join(dirname, filename))\n",
    "\n",
    "# You can write up to 20GB to the current directory (/kaggle/working/) that gets preserved as output when you create a version using \"Save & Run All\" \n",
    "# You can also write temporary files to /kaggle/temp/, but they won't be saved outside of the current session"
   ]
  },
  {
   "cell_type": "markdown",
   "id": "93a57879",
   "metadata": {
    "papermill": {
     "duration": 0.007078,
     "end_time": "2022-10-19T06:02:05.160423",
     "exception": false,
     "start_time": "2022-10-19T06:02:05.153345",
     "status": "completed"
    },
    "tags": []
   },
   "source": [
    "OBJECTIVE: To make an EDA report and analyse this zomato data\n",
    "\n",
    "WORK MAP:\n",
    "\n",
    "Find out if there are Duplicates value in primary key i.e., res_id, and drop it.\n",
    "\n",
    "\n",
    "\n",
    "Find out the null values and operate them if applicable.\n",
    "\n",
    "Analyse the individual columns and then corelate one column with others.\n",
    "\n",
    "Visualization: By using different graphs make the analyses more effective and easy to understand."
   ]
  },
  {
   "cell_type": "code",
   "execution_count": 2,
   "id": "b27116a7",
   "metadata": {
    "execution": {
     "iopub.execute_input": "2022-10-19T06:02:05.177232Z",
     "iopub.status.busy": "2022-10-19T06:02:05.176516Z",
     "iopub.status.idle": "2022-10-19T06:02:06.133243Z",
     "shell.execute_reply": "2022-10-19T06:02:06.132309Z"
    },
    "papermill": {
     "duration": 0.967872,
     "end_time": "2022-10-19T06:02:06.135846",
     "exception": false,
     "start_time": "2022-10-19T06:02:05.167974",
     "status": "completed"
    },
    "tags": []
   },
   "outputs": [],
   "source": [
    "import numpy as np \n",
    "import pandas as pd \n",
    "import seaborn as sns\n",
    "import matplotlib.pyplot as plt"
   ]
  },
  {
   "cell_type": "code",
   "execution_count": 3,
   "id": "9409d9d9",
   "metadata": {
    "execution": {
     "iopub.execute_input": "2022-10-19T06:02:06.153256Z",
     "iopub.status.busy": "2022-10-19T06:02:06.152506Z",
     "iopub.status.idle": "2022-10-19T06:02:16.345686Z",
     "shell.execute_reply": "2022-10-19T06:02:16.344628Z"
    },
    "papermill": {
     "duration": 10.204599,
     "end_time": "2022-10-19T06:02:16.348465",
     "exception": false,
     "start_time": "2022-10-19T06:02:06.143866",
     "status": "completed"
    },
    "tags": []
   },
   "outputs": [
    {
     "data": {
      "text/html": [
       "<div>\n",
       "<style scoped>\n",
       "    .dataframe tbody tr th:only-of-type {\n",
       "        vertical-align: middle;\n",
       "    }\n",
       "\n",
       "    .dataframe tbody tr th {\n",
       "        vertical-align: top;\n",
       "    }\n",
       "\n",
       "    .dataframe thead th {\n",
       "        text-align: right;\n",
       "    }\n",
       "</style>\n",
       "<table border=\"1\" class=\"dataframe\">\n",
       "  <thead>\n",
       "    <tr style=\"text-align: right;\">\n",
       "      <th></th>\n",
       "      <th>url</th>\n",
       "      <th>address</th>\n",
       "      <th>name</th>\n",
       "      <th>online_order</th>\n",
       "      <th>book_table</th>\n",
       "      <th>rate</th>\n",
       "      <th>votes</th>\n",
       "      <th>phone</th>\n",
       "      <th>location</th>\n",
       "      <th>rest_type</th>\n",
       "      <th>dish_liked</th>\n",
       "      <th>cuisines</th>\n",
       "      <th>approx_cost(for two people)</th>\n",
       "      <th>reviews_list</th>\n",
       "      <th>menu_item</th>\n",
       "      <th>listed_in(type)</th>\n",
       "      <th>listed_in(city)</th>\n",
       "    </tr>\n",
       "  </thead>\n",
       "  <tbody>\n",
       "    <tr>\n",
       "      <th>0</th>\n",
       "      <td>https://www.zomato.com/bangalore/jalsa-banasha...</td>\n",
       "      <td>942, 21st Main Road, 2nd Stage, Banashankari, ...</td>\n",
       "      <td>Jalsa</td>\n",
       "      <td>Yes</td>\n",
       "      <td>Yes</td>\n",
       "      <td>4.1/5</td>\n",
       "      <td>775</td>\n",
       "      <td>080 42297555\\r\\n+91 9743772233</td>\n",
       "      <td>Banashankari</td>\n",
       "      <td>Casual Dining</td>\n",
       "      <td>Pasta, Lunch Buffet, Masala Papad, Paneer Laja...</td>\n",
       "      <td>North Indian, Mughlai, Chinese</td>\n",
       "      <td>800</td>\n",
       "      <td>[('Rated 4.0', 'RATED\\n  A beautiful place to ...</td>\n",
       "      <td>[]</td>\n",
       "      <td>Buffet</td>\n",
       "      <td>Banashankari</td>\n",
       "    </tr>\n",
       "    <tr>\n",
       "      <th>1</th>\n",
       "      <td>https://www.zomato.com/bangalore/spice-elephan...</td>\n",
       "      <td>2nd Floor, 80 Feet Road, Near Big Bazaar, 6th ...</td>\n",
       "      <td>Spice Elephant</td>\n",
       "      <td>Yes</td>\n",
       "      <td>No</td>\n",
       "      <td>4.1/5</td>\n",
       "      <td>787</td>\n",
       "      <td>080 41714161</td>\n",
       "      <td>Banashankari</td>\n",
       "      <td>Casual Dining</td>\n",
       "      <td>Momos, Lunch Buffet, Chocolate Nirvana, Thai G...</td>\n",
       "      <td>Chinese, North Indian, Thai</td>\n",
       "      <td>800</td>\n",
       "      <td>[('Rated 4.0', 'RATED\\n  Had been here for din...</td>\n",
       "      <td>[]</td>\n",
       "      <td>Buffet</td>\n",
       "      <td>Banashankari</td>\n",
       "    </tr>\n",
       "    <tr>\n",
       "      <th>2</th>\n",
       "      <td>https://www.zomato.com/SanchurroBangalore?cont...</td>\n",
       "      <td>1112, Next to KIMS Medical College, 17th Cross...</td>\n",
       "      <td>San Churro Cafe</td>\n",
       "      <td>Yes</td>\n",
       "      <td>No</td>\n",
       "      <td>3.8/5</td>\n",
       "      <td>918</td>\n",
       "      <td>+91 9663487993</td>\n",
       "      <td>Banashankari</td>\n",
       "      <td>Cafe, Casual Dining</td>\n",
       "      <td>Churros, Cannelloni, Minestrone Soup, Hot Choc...</td>\n",
       "      <td>Cafe, Mexican, Italian</td>\n",
       "      <td>800</td>\n",
       "      <td>[('Rated 3.0', \"RATED\\n  Ambience is not that ...</td>\n",
       "      <td>[]</td>\n",
       "      <td>Buffet</td>\n",
       "      <td>Banashankari</td>\n",
       "    </tr>\n",
       "    <tr>\n",
       "      <th>3</th>\n",
       "      <td>https://www.zomato.com/bangalore/addhuri-udupi...</td>\n",
       "      <td>1st Floor, Annakuteera, 3rd Stage, Banashankar...</td>\n",
       "      <td>Addhuri Udupi Bhojana</td>\n",
       "      <td>No</td>\n",
       "      <td>No</td>\n",
       "      <td>3.7/5</td>\n",
       "      <td>88</td>\n",
       "      <td>+91 9620009302</td>\n",
       "      <td>Banashankari</td>\n",
       "      <td>Quick Bites</td>\n",
       "      <td>Masala Dosa</td>\n",
       "      <td>South Indian, North Indian</td>\n",
       "      <td>300</td>\n",
       "      <td>[('Rated 4.0', \"RATED\\n  Great food and proper...</td>\n",
       "      <td>[]</td>\n",
       "      <td>Buffet</td>\n",
       "      <td>Banashankari</td>\n",
       "    </tr>\n",
       "    <tr>\n",
       "      <th>4</th>\n",
       "      <td>https://www.zomato.com/bangalore/grand-village...</td>\n",
       "      <td>10, 3rd Floor, Lakshmi Associates, Gandhi Baza...</td>\n",
       "      <td>Grand Village</td>\n",
       "      <td>No</td>\n",
       "      <td>No</td>\n",
       "      <td>3.8/5</td>\n",
       "      <td>166</td>\n",
       "      <td>+91 8026612447\\r\\n+91 9901210005</td>\n",
       "      <td>Basavanagudi</td>\n",
       "      <td>Casual Dining</td>\n",
       "      <td>Panipuri, Gol Gappe</td>\n",
       "      <td>North Indian, Rajasthani</td>\n",
       "      <td>600</td>\n",
       "      <td>[('Rated 4.0', 'RATED\\n  Very good restaurant ...</td>\n",
       "      <td>[]</td>\n",
       "      <td>Buffet</td>\n",
       "      <td>Banashankari</td>\n",
       "    </tr>\n",
       "    <tr>\n",
       "      <th>...</th>\n",
       "      <td>...</td>\n",
       "      <td>...</td>\n",
       "      <td>...</td>\n",
       "      <td>...</td>\n",
       "      <td>...</td>\n",
       "      <td>...</td>\n",
       "      <td>...</td>\n",
       "      <td>...</td>\n",
       "      <td>...</td>\n",
       "      <td>...</td>\n",
       "      <td>...</td>\n",
       "      <td>...</td>\n",
       "      <td>...</td>\n",
       "      <td>...</td>\n",
       "      <td>...</td>\n",
       "      <td>...</td>\n",
       "      <td>...</td>\n",
       "    </tr>\n",
       "    <tr>\n",
       "      <th>51712</th>\n",
       "      <td>https://www.zomato.com/bangalore/best-brews-fo...</td>\n",
       "      <td>Four Points by Sheraton Bengaluru, 43/3, White...</td>\n",
       "      <td>Best Brews - Four Points by Sheraton Bengaluru...</td>\n",
       "      <td>No</td>\n",
       "      <td>No</td>\n",
       "      <td>3.6 /5</td>\n",
       "      <td>27</td>\n",
       "      <td>080 40301477</td>\n",
       "      <td>Whitefield</td>\n",
       "      <td>Bar</td>\n",
       "      <td>NaN</td>\n",
       "      <td>Continental</td>\n",
       "      <td>1,500</td>\n",
       "      <td>[('Rated 5.0', \"RATED\\n  Food and service are ...</td>\n",
       "      <td>[]</td>\n",
       "      <td>Pubs and bars</td>\n",
       "      <td>Whitefield</td>\n",
       "    </tr>\n",
       "    <tr>\n",
       "      <th>51713</th>\n",
       "      <td>https://www.zomato.com/bangalore/vinod-bar-and...</td>\n",
       "      <td>Number 10, Garudachar Palya, Mahadevapura, Whi...</td>\n",
       "      <td>Vinod Bar And Restaurant</td>\n",
       "      <td>No</td>\n",
       "      <td>No</td>\n",
       "      <td>NaN</td>\n",
       "      <td>0</td>\n",
       "      <td>+91 8197675843</td>\n",
       "      <td>Whitefield</td>\n",
       "      <td>Bar</td>\n",
       "      <td>NaN</td>\n",
       "      <td>Finger Food</td>\n",
       "      <td>600</td>\n",
       "      <td>[]</td>\n",
       "      <td>[]</td>\n",
       "      <td>Pubs and bars</td>\n",
       "      <td>Whitefield</td>\n",
       "    </tr>\n",
       "    <tr>\n",
       "      <th>51714</th>\n",
       "      <td>https://www.zomato.com/bangalore/plunge-sherat...</td>\n",
       "      <td>Sheraton Grand Bengaluru Whitefield Hotel &amp; Co...</td>\n",
       "      <td>Plunge - Sheraton Grand Bengaluru Whitefield H...</td>\n",
       "      <td>No</td>\n",
       "      <td>No</td>\n",
       "      <td>NaN</td>\n",
       "      <td>0</td>\n",
       "      <td>NaN</td>\n",
       "      <td>Whitefield</td>\n",
       "      <td>Bar</td>\n",
       "      <td>NaN</td>\n",
       "      <td>Finger Food</td>\n",
       "      <td>2,000</td>\n",
       "      <td>[]</td>\n",
       "      <td>[]</td>\n",
       "      <td>Pubs and bars</td>\n",
       "      <td>Whitefield</td>\n",
       "    </tr>\n",
       "    <tr>\n",
       "      <th>51715</th>\n",
       "      <td>https://www.zomato.com/bangalore/chime-sherato...</td>\n",
       "      <td>Sheraton Grand Bengaluru Whitefield Hotel &amp; Co...</td>\n",
       "      <td>Chime - Sheraton Grand Bengaluru Whitefield Ho...</td>\n",
       "      <td>No</td>\n",
       "      <td>Yes</td>\n",
       "      <td>4.3 /5</td>\n",
       "      <td>236</td>\n",
       "      <td>080 49652769</td>\n",
       "      <td>ITPL Main Road, Whitefield</td>\n",
       "      <td>Bar</td>\n",
       "      <td>Cocktails, Pizza, Buttermilk</td>\n",
       "      <td>Finger Food</td>\n",
       "      <td>2,500</td>\n",
       "      <td>[('Rated 4.0', 'RATED\\n  Nice and friendly pla...</td>\n",
       "      <td>[]</td>\n",
       "      <td>Pubs and bars</td>\n",
       "      <td>Whitefield</td>\n",
       "    </tr>\n",
       "    <tr>\n",
       "      <th>51716</th>\n",
       "      <td>https://www.zomato.com/bangalore/the-nest-the-...</td>\n",
       "      <td>ITPL Main Road, KIADB Export Promotion Industr...</td>\n",
       "      <td>The Nest - The Den Bengaluru</td>\n",
       "      <td>No</td>\n",
       "      <td>No</td>\n",
       "      <td>3.4 /5</td>\n",
       "      <td>13</td>\n",
       "      <td>+91 8071117272</td>\n",
       "      <td>ITPL Main Road, Whitefield</td>\n",
       "      <td>Bar, Casual Dining</td>\n",
       "      <td>NaN</td>\n",
       "      <td>Finger Food, North Indian, Continental</td>\n",
       "      <td>1,500</td>\n",
       "      <td>[('Rated 5.0', 'RATED\\n  Great ambience , look...</td>\n",
       "      <td>[]</td>\n",
       "      <td>Pubs and bars</td>\n",
       "      <td>Whitefield</td>\n",
       "    </tr>\n",
       "  </tbody>\n",
       "</table>\n",
       "<p>51717 rows × 17 columns</p>\n",
       "</div>"
      ],
      "text/plain": [
       "                                                     url  \\\n",
       "0      https://www.zomato.com/bangalore/jalsa-banasha...   \n",
       "1      https://www.zomato.com/bangalore/spice-elephan...   \n",
       "2      https://www.zomato.com/SanchurroBangalore?cont...   \n",
       "3      https://www.zomato.com/bangalore/addhuri-udupi...   \n",
       "4      https://www.zomato.com/bangalore/grand-village...   \n",
       "...                                                  ...   \n",
       "51712  https://www.zomato.com/bangalore/best-brews-fo...   \n",
       "51713  https://www.zomato.com/bangalore/vinod-bar-and...   \n",
       "51714  https://www.zomato.com/bangalore/plunge-sherat...   \n",
       "51715  https://www.zomato.com/bangalore/chime-sherato...   \n",
       "51716  https://www.zomato.com/bangalore/the-nest-the-...   \n",
       "\n",
       "                                                 address  \\\n",
       "0      942, 21st Main Road, 2nd Stage, Banashankari, ...   \n",
       "1      2nd Floor, 80 Feet Road, Near Big Bazaar, 6th ...   \n",
       "2      1112, Next to KIMS Medical College, 17th Cross...   \n",
       "3      1st Floor, Annakuteera, 3rd Stage, Banashankar...   \n",
       "4      10, 3rd Floor, Lakshmi Associates, Gandhi Baza...   \n",
       "...                                                  ...   \n",
       "51712  Four Points by Sheraton Bengaluru, 43/3, White...   \n",
       "51713  Number 10, Garudachar Palya, Mahadevapura, Whi...   \n",
       "51714  Sheraton Grand Bengaluru Whitefield Hotel & Co...   \n",
       "51715  Sheraton Grand Bengaluru Whitefield Hotel & Co...   \n",
       "51716  ITPL Main Road, KIADB Export Promotion Industr...   \n",
       "\n",
       "                                                    name online_order  \\\n",
       "0                                                  Jalsa          Yes   \n",
       "1                                         Spice Elephant          Yes   \n",
       "2                                        San Churro Cafe          Yes   \n",
       "3                                  Addhuri Udupi Bhojana           No   \n",
       "4                                          Grand Village           No   \n",
       "...                                                  ...          ...   \n",
       "51712  Best Brews - Four Points by Sheraton Bengaluru...           No   \n",
       "51713                           Vinod Bar And Restaurant           No   \n",
       "51714  Plunge - Sheraton Grand Bengaluru Whitefield H...           No   \n",
       "51715  Chime - Sheraton Grand Bengaluru Whitefield Ho...           No   \n",
       "51716                       The Nest - The Den Bengaluru           No   \n",
       "\n",
       "      book_table    rate  votes                             phone  \\\n",
       "0            Yes   4.1/5    775    080 42297555\\r\\n+91 9743772233   \n",
       "1             No   4.1/5    787                      080 41714161   \n",
       "2             No   3.8/5    918                    +91 9663487993   \n",
       "3             No   3.7/5     88                    +91 9620009302   \n",
       "4             No   3.8/5    166  +91 8026612447\\r\\n+91 9901210005   \n",
       "...          ...     ...    ...                               ...   \n",
       "51712         No  3.6 /5     27                      080 40301477   \n",
       "51713         No     NaN      0                    +91 8197675843   \n",
       "51714         No     NaN      0                               NaN   \n",
       "51715        Yes  4.3 /5    236                      080 49652769   \n",
       "51716         No  3.4 /5     13                    +91 8071117272   \n",
       "\n",
       "                         location            rest_type  \\\n",
       "0                    Banashankari        Casual Dining   \n",
       "1                    Banashankari        Casual Dining   \n",
       "2                    Banashankari  Cafe, Casual Dining   \n",
       "3                    Banashankari          Quick Bites   \n",
       "4                    Basavanagudi        Casual Dining   \n",
       "...                           ...                  ...   \n",
       "51712                  Whitefield                  Bar   \n",
       "51713                  Whitefield                  Bar   \n",
       "51714                  Whitefield                  Bar   \n",
       "51715  ITPL Main Road, Whitefield                  Bar   \n",
       "51716  ITPL Main Road, Whitefield   Bar, Casual Dining   \n",
       "\n",
       "                                              dish_liked  \\\n",
       "0      Pasta, Lunch Buffet, Masala Papad, Paneer Laja...   \n",
       "1      Momos, Lunch Buffet, Chocolate Nirvana, Thai G...   \n",
       "2      Churros, Cannelloni, Minestrone Soup, Hot Choc...   \n",
       "3                                            Masala Dosa   \n",
       "4                                    Panipuri, Gol Gappe   \n",
       "...                                                  ...   \n",
       "51712                                                NaN   \n",
       "51713                                                NaN   \n",
       "51714                                                NaN   \n",
       "51715                       Cocktails, Pizza, Buttermilk   \n",
       "51716                                                NaN   \n",
       "\n",
       "                                     cuisines approx_cost(for two people)  \\\n",
       "0              North Indian, Mughlai, Chinese                         800   \n",
       "1                 Chinese, North Indian, Thai                         800   \n",
       "2                      Cafe, Mexican, Italian                         800   \n",
       "3                  South Indian, North Indian                         300   \n",
       "4                    North Indian, Rajasthani                         600   \n",
       "...                                       ...                         ...   \n",
       "51712                             Continental                       1,500   \n",
       "51713                             Finger Food                         600   \n",
       "51714                             Finger Food                       2,000   \n",
       "51715                             Finger Food                       2,500   \n",
       "51716  Finger Food, North Indian, Continental                       1,500   \n",
       "\n",
       "                                            reviews_list menu_item  \\\n",
       "0      [('Rated 4.0', 'RATED\\n  A beautiful place to ...        []   \n",
       "1      [('Rated 4.0', 'RATED\\n  Had been here for din...        []   \n",
       "2      [('Rated 3.0', \"RATED\\n  Ambience is not that ...        []   \n",
       "3      [('Rated 4.0', \"RATED\\n  Great food and proper...        []   \n",
       "4      [('Rated 4.0', 'RATED\\n  Very good restaurant ...        []   \n",
       "...                                                  ...       ...   \n",
       "51712  [('Rated 5.0', \"RATED\\n  Food and service are ...        []   \n",
       "51713                                                 []        []   \n",
       "51714                                                 []        []   \n",
       "51715  [('Rated 4.0', 'RATED\\n  Nice and friendly pla...        []   \n",
       "51716  [('Rated 5.0', 'RATED\\n  Great ambience , look...        []   \n",
       "\n",
       "      listed_in(type) listed_in(city)  \n",
       "0              Buffet    Banashankari  \n",
       "1              Buffet    Banashankari  \n",
       "2              Buffet    Banashankari  \n",
       "3              Buffet    Banashankari  \n",
       "4              Buffet    Banashankari  \n",
       "...               ...             ...  \n",
       "51712   Pubs and bars      Whitefield  \n",
       "51713   Pubs and bars      Whitefield  \n",
       "51714   Pubs and bars      Whitefield  \n",
       "51715   Pubs and bars      Whitefield  \n",
       "51716   Pubs and bars      Whitefield  \n",
       "\n",
       "[51717 rows x 17 columns]"
      ]
     },
     "execution_count": 3,
     "metadata": {},
     "output_type": "execute_result"
    }
   ],
   "source": [
    "zomato=pd.read_csv('/kaggle/input/zomato-eda/zomato.csv')\n",
    "zomato"
   ]
  },
  {
   "cell_type": "code",
   "execution_count": 4,
   "id": "66eb7d68",
   "metadata": {
    "execution": {
     "iopub.execute_input": "2022-10-19T06:02:16.366479Z",
     "iopub.status.busy": "2022-10-19T06:02:16.366093Z",
     "iopub.status.idle": "2022-10-19T06:02:16.430525Z",
     "shell.execute_reply": "2022-10-19T06:02:16.429236Z"
    },
    "papermill": {
     "duration": 0.077095,
     "end_time": "2022-10-19T06:02:16.433818",
     "exception": false,
     "start_time": "2022-10-19T06:02:16.356723",
     "status": "completed"
    },
    "tags": []
   },
   "outputs": [
    {
     "name": "stdout",
     "output_type": "stream",
     "text": [
      "<class 'pandas.core.frame.DataFrame'>\n",
      "RangeIndex: 51717 entries, 0 to 51716\n",
      "Data columns (total 17 columns):\n",
      " #   Column                       Non-Null Count  Dtype \n",
      "---  ------                       --------------  ----- \n",
      " 0   url                          51717 non-null  object\n",
      " 1   address                      51717 non-null  object\n",
      " 2   name                         51717 non-null  object\n",
      " 3   online_order                 51717 non-null  object\n",
      " 4   book_table                   51717 non-null  object\n",
      " 5   rate                         43942 non-null  object\n",
      " 6   votes                        51717 non-null  int64 \n",
      " 7   phone                        50509 non-null  object\n",
      " 8   location                     51696 non-null  object\n",
      " 9   rest_type                    51490 non-null  object\n",
      " 10  dish_liked                   23639 non-null  object\n",
      " 11  cuisines                     51672 non-null  object\n",
      " 12  approx_cost(for two people)  51371 non-null  object\n",
      " 13  reviews_list                 51717 non-null  object\n",
      " 14  menu_item                    51717 non-null  object\n",
      " 15  listed_in(type)              51717 non-null  object\n",
      " 16  listed_in(city)              51717 non-null  object\n",
      "dtypes: int64(1), object(16)\n",
      "memory usage: 6.7+ MB\n"
     ]
    }
   ],
   "source": [
    "zomato.info()"
   ]
  },
  {
   "cell_type": "code",
   "execution_count": 5,
   "id": "dce874c5",
   "metadata": {
    "execution": {
     "iopub.execute_input": "2022-10-19T06:02:16.453898Z",
     "iopub.status.busy": "2022-10-19T06:02:16.452608Z",
     "iopub.status.idle": "2022-10-19T06:02:16.474159Z",
     "shell.execute_reply": "2022-10-19T06:02:16.472883Z"
    },
    "papermill": {
     "duration": 0.032983,
     "end_time": "2022-10-19T06:02:16.476479",
     "exception": false,
     "start_time": "2022-10-19T06:02:16.443496",
     "status": "completed"
    },
    "tags": []
   },
   "outputs": [
    {
     "data": {
      "text/plain": [
       "(51717, 17)"
      ]
     },
     "execution_count": 5,
     "metadata": {},
     "output_type": "execute_result"
    }
   ],
   "source": [
    "df=zomato.copy()\n",
    "df.shape"
   ]
  },
  {
   "cell_type": "code",
   "execution_count": 6,
   "id": "f675eb4e",
   "metadata": {
    "execution": {
     "iopub.execute_input": "2022-10-19T06:02:16.495823Z",
     "iopub.status.busy": "2022-10-19T06:02:16.494609Z",
     "iopub.status.idle": "2022-10-19T06:02:16.502031Z",
     "shell.execute_reply": "2022-10-19T06:02:16.501168Z"
    },
    "papermill": {
     "duration": 0.019621,
     "end_time": "2022-10-19T06:02:16.504228",
     "exception": false,
     "start_time": "2022-10-19T06:02:16.484607",
     "status": "completed"
    },
    "tags": []
   },
   "outputs": [
    {
     "data": {
      "text/plain": [
       "Index(['url', 'address', 'name', 'online_order', 'book_table', 'rate', 'votes',\n",
       "       'phone', 'location', 'rest_type', 'dish_liked', 'cuisines',\n",
       "       'approx_cost(for two people)', 'reviews_list', 'menu_item',\n",
       "       'listed_in(type)', 'listed_in(city)'],\n",
       "      dtype='object')"
      ]
     },
     "execution_count": 6,
     "metadata": {},
     "output_type": "execute_result"
    }
   ],
   "source": [
    "df.columns"
   ]
  },
  {
   "cell_type": "code",
   "execution_count": 7,
   "id": "67fd567b",
   "metadata": {
    "execution": {
     "iopub.execute_input": "2022-10-19T06:02:16.523115Z",
     "iopub.status.busy": "2022-10-19T06:02:16.522046Z",
     "iopub.status.idle": "2022-10-19T06:02:16.571829Z",
     "shell.execute_reply": "2022-10-19T06:02:16.570809Z"
    },
    "papermill": {
     "duration": 0.06144,
     "end_time": "2022-10-19T06:02:16.574128",
     "exception": false,
     "start_time": "2022-10-19T06:02:16.512688",
     "status": "completed"
    },
    "tags": []
   },
   "outputs": [
    {
     "data": {
      "text/plain": [
       "url                                0\n",
       "address                            0\n",
       "name                               0\n",
       "online_order                       0\n",
       "book_table                         0\n",
       "rate                            7775\n",
       "votes                              0\n",
       "phone                           1208\n",
       "location                          21\n",
       "rest_type                        227\n",
       "dish_liked                     28078\n",
       "cuisines                          45\n",
       "approx_cost(for two people)      346\n",
       "reviews_list                       0\n",
       "menu_item                          0\n",
       "listed_in(type)                    0\n",
       "listed_in(city)                    0\n",
       "dtype: int64"
      ]
     },
     "execution_count": 7,
     "metadata": {},
     "output_type": "execute_result"
    }
   ],
   "source": [
    "df.isnull().sum()"
   ]
  },
  {
   "cell_type": "code",
   "execution_count": 8,
   "id": "0864b1c6",
   "metadata": {
    "execution": {
     "iopub.execute_input": "2022-10-19T06:02:16.592426Z",
     "iopub.status.busy": "2022-10-19T06:02:16.591682Z",
     "iopub.status.idle": "2022-10-19T06:02:16.610432Z",
     "shell.execute_reply": "2022-10-19T06:02:16.609404Z"
    },
    "papermill": {
     "duration": 0.030725,
     "end_time": "2022-10-19T06:02:16.612572",
     "exception": false,
     "start_time": "2022-10-19T06:02:16.581847",
     "status": "completed"
    },
    "tags": []
   },
   "outputs": [
    {
     "data": {
      "text/html": [
       "<div>\n",
       "<style scoped>\n",
       "    .dataframe tbody tr th:only-of-type {\n",
       "        vertical-align: middle;\n",
       "    }\n",
       "\n",
       "    .dataframe tbody tr th {\n",
       "        vertical-align: top;\n",
       "    }\n",
       "\n",
       "    .dataframe thead th {\n",
       "        text-align: right;\n",
       "    }\n",
       "</style>\n",
       "<table border=\"1\" class=\"dataframe\">\n",
       "  <thead>\n",
       "    <tr style=\"text-align: right;\">\n",
       "      <th></th>\n",
       "      <th>votes</th>\n",
       "    </tr>\n",
       "  </thead>\n",
       "  <tbody>\n",
       "    <tr>\n",
       "      <th>count</th>\n",
       "      <td>51717.000000</td>\n",
       "    </tr>\n",
       "    <tr>\n",
       "      <th>mean</th>\n",
       "      <td>283.697527</td>\n",
       "    </tr>\n",
       "    <tr>\n",
       "      <th>std</th>\n",
       "      <td>803.838853</td>\n",
       "    </tr>\n",
       "    <tr>\n",
       "      <th>min</th>\n",
       "      <td>0.000000</td>\n",
       "    </tr>\n",
       "    <tr>\n",
       "      <th>25%</th>\n",
       "      <td>7.000000</td>\n",
       "    </tr>\n",
       "    <tr>\n",
       "      <th>50%</th>\n",
       "      <td>41.000000</td>\n",
       "    </tr>\n",
       "    <tr>\n",
       "      <th>75%</th>\n",
       "      <td>198.000000</td>\n",
       "    </tr>\n",
       "    <tr>\n",
       "      <th>max</th>\n",
       "      <td>16832.000000</td>\n",
       "    </tr>\n",
       "  </tbody>\n",
       "</table>\n",
       "</div>"
      ],
      "text/plain": [
       "              votes\n",
       "count  51717.000000\n",
       "mean     283.697527\n",
       "std      803.838853\n",
       "min        0.000000\n",
       "25%        7.000000\n",
       "50%       41.000000\n",
       "75%      198.000000\n",
       "max    16832.000000"
      ]
     },
     "execution_count": 8,
     "metadata": {},
     "output_type": "execute_result"
    }
   ],
   "source": [
    "df.describe() "
   ]
  },
  {
   "cell_type": "code",
   "execution_count": 9,
   "id": "74f16e86",
   "metadata": {
    "execution": {
     "iopub.execute_input": "2022-10-19T06:02:16.632372Z",
     "iopub.status.busy": "2022-10-19T06:02:16.631415Z",
     "iopub.status.idle": "2022-10-19T06:02:16.637464Z",
     "shell.execute_reply": "2022-10-19T06:02:16.636761Z"
    },
    "papermill": {
     "duration": 0.018029,
     "end_time": "2022-10-19T06:02:16.639330",
     "exception": false,
     "start_time": "2022-10-19T06:02:16.621301",
     "status": "completed"
    },
    "tags": []
   },
   "outputs": [],
   "source": [
    "df.rename({'approx_cost(for two people)':'approx_cost','listed_in(type)':'listed_in','listed_in(city)':'city'},axis=1,inplace=True)"
   ]
  },
  {
   "cell_type": "code",
   "execution_count": 10,
   "id": "f44a912d",
   "metadata": {
    "execution": {
     "iopub.execute_input": "2022-10-19T06:02:16.658480Z",
     "iopub.status.busy": "2022-10-19T06:02:16.657605Z",
     "iopub.status.idle": "2022-10-19T06:02:16.676762Z",
     "shell.execute_reply": "2022-10-19T06:02:16.675943Z"
    },
    "papermill": {
     "duration": 0.030814,
     "end_time": "2022-10-19T06:02:16.678889",
     "exception": false,
     "start_time": "2022-10-19T06:02:16.648075",
     "status": "completed"
    },
    "tags": []
   },
   "outputs": [],
   "source": [
    "df.drop(['phone','url','address'],axis=1,inplace = True )"
   ]
  },
  {
   "cell_type": "markdown",
   "id": "9c12d05b",
   "metadata": {
    "papermill": {
     "duration": 0.008275,
     "end_time": "2022-10-19T06:02:16.695800",
     "exception": false,
     "start_time": "2022-10-19T06:02:16.687525",
     "status": "completed"
    },
    "tags": []
   },
   "source": [
    "here i am fillna function using nan values will be replace to other word "
   ]
  },
  {
   "cell_type": "code",
   "execution_count": 11,
   "id": "efadb9da",
   "metadata": {
    "execution": {
     "iopub.execute_input": "2022-10-19T06:02:16.714236Z",
     "iopub.status.busy": "2022-10-19T06:02:16.713509Z",
     "iopub.status.idle": "2022-10-19T06:02:16.734227Z",
     "shell.execute_reply": "2022-10-19T06:02:16.733137Z"
    },
    "papermill": {
     "duration": 0.032404,
     "end_time": "2022-10-19T06:02:16.736594",
     "exception": false,
     "start_time": "2022-10-19T06:02:16.704190",
     "status": "completed"
    },
    "tags": []
   },
   "outputs": [],
   "source": [
    "df=df.fillna({'dish_liked':'no_data','rate':'no_rating'})"
   ]
  },
  {
   "cell_type": "code",
   "execution_count": 12,
   "id": "5fc50b2e",
   "metadata": {
    "execution": {
     "iopub.execute_input": "2022-10-19T06:02:16.755630Z",
     "iopub.status.busy": "2022-10-19T06:02:16.754702Z",
     "iopub.status.idle": "2022-10-19T06:02:16.763983Z",
     "shell.execute_reply": "2022-10-19T06:02:16.763054Z"
    },
    "papermill": {
     "duration": 0.020757,
     "end_time": "2022-10-19T06:02:16.765947",
     "exception": false,
     "start_time": "2022-10-19T06:02:16.745190",
     "status": "completed"
    },
    "tags": []
   },
   "outputs": [
    {
     "data": {
      "text/plain": [
       "array(['Yes', 'No'], dtype=object)"
      ]
     },
     "execution_count": 12,
     "metadata": {},
     "output_type": "execute_result"
    }
   ],
   "source": [
    "df['online_order'].unique()"
   ]
  },
  {
   "cell_type": "code",
   "execution_count": 13,
   "id": "b584b125",
   "metadata": {
    "execution": {
     "iopub.execute_input": "2022-10-19T06:02:16.785561Z",
     "iopub.status.busy": "2022-10-19T06:02:16.784444Z",
     "iopub.status.idle": "2022-10-19T06:02:16.794893Z",
     "shell.execute_reply": "2022-10-19T06:02:16.794032Z"
    },
    "papermill": {
     "duration": 0.022067,
     "end_time": "2022-10-19T06:02:16.796828",
     "exception": false,
     "start_time": "2022-10-19T06:02:16.774761",
     "status": "completed"
    },
    "tags": []
   },
   "outputs": [
    {
     "data": {
      "text/plain": [
       "array(['Yes', 'No'], dtype=object)"
      ]
     },
     "execution_count": 13,
     "metadata": {},
     "output_type": "execute_result"
    }
   ],
   "source": [
    "df['book_table'].unique()\n"
   ]
  },
  {
   "cell_type": "code",
   "execution_count": 14,
   "id": "4bbd06a2",
   "metadata": {
    "execution": {
     "iopub.execute_input": "2022-10-19T06:02:16.815860Z",
     "iopub.status.busy": "2022-10-19T06:02:16.815475Z",
     "iopub.status.idle": "2022-10-19T06:02:16.826140Z",
     "shell.execute_reply": "2022-10-19T06:02:16.825082Z"
    },
    "papermill": {
     "duration": 0.022811,
     "end_time": "2022-10-19T06:02:16.828126",
     "exception": false,
     "start_time": "2022-10-19T06:02:16.805315",
     "status": "completed"
    },
    "tags": []
   },
   "outputs": [
    {
     "data": {
      "text/plain": [
       "Quick Bites       19132\n",
       "Casual Dining     10330\n",
       "Cafe               3732\n",
       "Delivery           2604\n",
       "Dessert Parlor     2263\n",
       "Name: rest_type, dtype: int64"
      ]
     },
     "execution_count": 14,
     "metadata": {},
     "output_type": "execute_result"
    }
   ],
   "source": [
    "df['rest_type'].value_counts().head()"
   ]
  },
  {
   "cell_type": "code",
   "execution_count": 15,
   "id": "fb936413",
   "metadata": {
    "execution": {
     "iopub.execute_input": "2022-10-19T06:02:16.847838Z",
     "iopub.status.busy": "2022-10-19T06:02:16.847243Z",
     "iopub.status.idle": "2022-10-19T06:02:16.858028Z",
     "shell.execute_reply": "2022-10-19T06:02:16.857103Z"
    },
    "papermill": {
     "duration": 0.023179,
     "end_time": "2022-10-19T06:02:16.860069",
     "exception": false,
     "start_time": "2022-10-19T06:02:16.836890",
     "status": "completed"
    },
    "tags": []
   },
   "outputs": [
    {
     "data": {
      "text/plain": [
       "BTM                      5124\n",
       "HSR                      2523\n",
       "Koramangala 5th Block    2504\n",
       "JP Nagar                 2235\n",
       "Whitefield               2144\n",
       "Name: location, dtype: int64"
      ]
     },
     "execution_count": 15,
     "metadata": {},
     "output_type": "execute_result"
    }
   ],
   "source": [
    "df['location'].value_counts().head()"
   ]
  },
  {
   "cell_type": "markdown",
   "id": "cbeb58b0",
   "metadata": {
    "papermill": {
     "duration": 0.008442,
     "end_time": "2022-10-19T06:02:16.877703",
     "exception": false,
     "start_time": "2022-10-19T06:02:16.869261",
     "status": "completed"
    },
    "tags": []
   },
   "source": [
    "Here top rateing and hotel names shown"
   ]
  },
  {
   "cell_type": "code",
   "execution_count": 16,
   "id": "2eeb7fb1",
   "metadata": {
    "execution": {
     "iopub.execute_input": "2022-10-19T06:02:16.896720Z",
     "iopub.status.busy": "2022-10-19T06:02:16.896159Z",
     "iopub.status.idle": "2022-10-19T06:02:16.915617Z",
     "shell.execute_reply": "2022-10-19T06:02:16.914627Z"
    },
    "papermill": {
     "duration": 0.031468,
     "end_time": "2022-10-19T06:02:16.917776",
     "exception": false,
     "start_time": "2022-10-19T06:02:16.886308",
     "status": "completed"
    },
    "tags": []
   },
   "outputs": [
    {
     "data": {
      "text/html": [
       "<div>\n",
       "<style scoped>\n",
       "    .dataframe tbody tr th:only-of-type {\n",
       "        vertical-align: middle;\n",
       "    }\n",
       "\n",
       "    .dataframe tbody tr th {\n",
       "        vertical-align: top;\n",
       "    }\n",
       "\n",
       "    .dataframe thead th {\n",
       "        text-align: right;\n",
       "    }\n",
       "</style>\n",
       "<table border=\"1\" class=\"dataframe\">\n",
       "  <thead>\n",
       "    <tr style=\"text-align: right;\">\n",
       "      <th></th>\n",
       "      <th>name</th>\n",
       "      <th>rate</th>\n",
       "    </tr>\n",
       "  </thead>\n",
       "  <tbody>\n",
       "    <tr>\n",
       "      <th>3921</th>\n",
       "      <td>Byg Brewski Brewing Company</td>\n",
       "      <td>4.9/5</td>\n",
       "    </tr>\n",
       "    <tr>\n",
       "      <th>5153</th>\n",
       "      <td>Belgian Waffle Factory</td>\n",
       "      <td>4.9/5</td>\n",
       "    </tr>\n",
       "    <tr>\n",
       "      <th>6746</th>\n",
       "      <td>Flechazo</td>\n",
       "      <td>4.9/5</td>\n",
       "    </tr>\n",
       "    <tr>\n",
       "      <th>7118</th>\n",
       "      <td>Punjab Grill</td>\n",
       "      <td>4.9/5</td>\n",
       "    </tr>\n",
       "    <tr>\n",
       "      <th>8260</th>\n",
       "      <td>AB's - Absolute Barbecues</td>\n",
       "      <td>4.9/5</td>\n",
       "    </tr>\n",
       "  </tbody>\n",
       "</table>\n",
       "</div>"
      ],
      "text/plain": [
       "                             name   rate\n",
       "3921  Byg Brewski Brewing Company  4.9/5\n",
       "5153       Belgian Waffle Factory  4.9/5\n",
       "6746                     Flechazo  4.9/5\n",
       "7118                 Punjab Grill  4.9/5\n",
       "8260    AB's - Absolute Barbecues  4.9/5"
      ]
     },
     "execution_count": 16,
     "metadata": {},
     "output_type": "execute_result"
    }
   ],
   "source": [
    " df.loc[(df['rate']=='4.9 /5')|(df['rate']=='4.9/5'),['name','rate']].drop_duplicates(keep='first').head()"
   ]
  },
  {
   "cell_type": "code",
   "execution_count": 17,
   "id": "e83e7a68",
   "metadata": {
    "execution": {
     "iopub.execute_input": "2022-10-19T06:02:16.937619Z",
     "iopub.status.busy": "2022-10-19T06:02:16.937268Z",
     "iopub.status.idle": "2022-10-19T06:02:16.945324Z",
     "shell.execute_reply": "2022-10-19T06:02:16.944296Z"
    },
    "papermill": {
     "duration": 0.020358,
     "end_time": "2022-10-19T06:02:16.947455",
     "exception": false,
     "start_time": "2022-10-19T06:02:16.927097",
     "status": "completed"
    },
    "tags": []
   },
   "outputs": [],
   "source": [
    "def area_like_meal(location='BTM'):\n",
    "    a=df[df['location']==location]\n",
    "    s = []\n",
    "    for i in a['dish_liked'].str.split(','):\n",
    "        for j in i:\n",
    "            s.append(j)\n",
    "    uni_dish=list(set(s))\n",
    "    c=0\n",
    "    name=[]\n",
    "    total_no=[]\n",
    "    for i in uni_dish:\n",
    "        for j in s:\n",
    "            if i==j:\n",
    "                c+=1\n",
    "        name.append(i)\n",
    "        total_no.append(c)\n",
    "    dic={'meal':name,'total_count':total_no}\n",
    "    meal=pd.DataFrame(dic)\n",
    "    all_data=meal.nlargest(4,['total_count'])\n",
    "    sns.barplot(x='meal', y='total_count',data=all_data)\n",
    "    plt.show()"
   ]
  },
  {
   "cell_type": "markdown",
   "id": "6b83d565",
   "metadata": {
    "papermill": {
     "duration": 0.008962,
     "end_time": "2022-10-19T06:02:16.965836",
     "exception": false,
     "start_time": "2022-10-19T06:02:16.956874",
     "status": "completed"
    },
    "tags": []
   },
   "source": [
    "Data Visualization"
   ]
  },
  {
   "cell_type": "markdown",
   "id": "31dcb9b2",
   "metadata": {
    "papermill": {
     "duration": 0.00843,
     "end_time": "2022-10-19T06:02:16.983421",
     "exception": false,
     "start_time": "2022-10-19T06:02:16.974991",
     "status": "completed"
    },
    "tags": []
   },
   "source": [
    "we can see a top 5 area in the most demandable "
   ]
  },
  {
   "cell_type": "code",
   "execution_count": 18,
   "id": "9e9d5dc0",
   "metadata": {
    "execution": {
     "iopub.execute_input": "2022-10-19T06:02:17.003590Z",
     "iopub.status.busy": "2022-10-19T06:02:17.002544Z",
     "iopub.status.idle": "2022-10-19T06:02:19.075721Z",
     "shell.execute_reply": "2022-10-19T06:02:19.074951Z"
    },
    "papermill": {
     "duration": 2.085415,
     "end_time": "2022-10-19T06:02:19.077820",
     "exception": false,
     "start_time": "2022-10-19T06:02:16.992405",
     "status": "completed"
    },
    "tags": []
   },
   "outputs": [
    {
     "name": "stdout",
     "output_type": "stream",
     "text": [
      "BTM\n"
     ]
    },
    {
     "data": {
      "image/png": "[encoded data removed]",
      "text/plain": [
       "<Figure size 432x288 with 1 Axes>"
      ]
     },
     "metadata": {
      "needs_background": "light"
     },
     "output_type": "display_data"
    },
    {
     "name": "stdout",
     "output_type": "stream",
     "text": [
      "HSR\n"
     ]
    },
    {
     "data": {
      "image/png": "[encoded data removed]",
      "text/plain": [
       "<Figure size 432x288 with 1 Axes>"
      ]
     },
     "metadata": {
      "needs_background": "light"
     },
     "output_type": "display_data"
    },
    {
     "name": "stdout",
     "output_type": "stream",
     "text": [
      "Koramangala 5th Block\n"
     ]
    },
    {
     "data": {
      "image/png": "[encoded data removed]",
      "text/plain": [
       "<Figure size 432x288 with 1 Axes>"
      ]
     },
     "metadata": {
      "needs_background": "light"
     },
     "output_type": "display_data"
    },
    {
     "name": "stdout",
     "output_type": "stream",
     "text": [
      "JP Nagar\n"
     ]
    },
    {
     "data": {
      "image/png": "[encoded data removed]",
      "text/plain": [
       "<Figure size 432x288 with 1 Axes>"
      ]
     },
     "metadata": {
      "needs_background": "light"
     },
     "output_type": "display_data"
    },
    {
     "name": "stdout",
     "output_type": "stream",
     "text": [
      "Whitefield\n"
     ]
    },
    {
     "data": {
      "image/png": "[encoded data removed]",
      "text/plain": [
       "<Figure size 432x288 with 1 Axes>"
      ]
     },
     "metadata": {
      "needs_background": "light"
     },
     "output_type": "display_data"
    }
   ],
   "source": [
    "for i in df['location'].value_counts().head().index:\n",
    "    print(i)\n",
    "    area_like_meal(location=i)"
   ]
  },
  {
   "cell_type": "markdown",
   "id": "6c9d2201",
   "metadata": {
    "papermill": {
     "duration": 0.011035,
     "end_time": "2022-10-19T06:02:19.100058",
     "exception": false,
     "start_time": "2022-10-19T06:02:19.089023",
     "status": "completed"
    },
    "tags": []
   },
   "source": [
    "here we are seen how much hotels are taken online services"
   ]
  },
  {
   "cell_type": "code",
   "execution_count": 19,
   "id": "b1c874d6",
   "metadata": {
    "execution": {
     "iopub.execute_input": "2022-10-19T06:02:19.123516Z",
     "iopub.status.busy": "2022-10-19T06:02:19.122613Z",
     "iopub.status.idle": "2022-10-19T06:02:19.315413Z",
     "shell.execute_reply": "2022-10-19T06:02:19.314660Z"
    },
    "papermill": {
     "duration": 0.206348,
     "end_time": "2022-10-19T06:02:19.317398",
     "exception": false,
     "start_time": "2022-10-19T06:02:19.111050",
     "status": "completed"
    },
    "tags": []
   },
   "outputs": [
    {
     "data": {
      "text/plain": [
       "<AxesSubplot:>"
      ]
     },
     "execution_count": 19,
     "metadata": {},
     "output_type": "execute_result"
    },
    {
     "data": {
      "image/png": "[encoded data removed]",
      "text/plain": [
       "<Figure size 432x288 with 1 Axes>"
      ]
     },
     "metadata": {
      "needs_background": "light"
     },
     "output_type": "display_data"
    }
   ],
   "source": [
    "df.online_order.value_counts().plot(kind='bar')"
   ]
  },
  {
   "cell_type": "markdown",
   "id": "61c58d86",
   "metadata": {
    "papermill": {
     "duration": 0.010182,
     "end_time": "2022-10-19T06:02:19.338219",
     "exception": false,
     "start_time": "2022-10-19T06:02:19.328037",
     "status": "completed"
    },
    "tags": []
   },
   "source": [
    "How many hotels provide online booking facility"
   ]
  },
  {
   "cell_type": "code",
   "execution_count": 20,
   "id": "181873bb",
   "metadata": {
    "execution": {
     "iopub.execute_input": "2022-10-19T06:02:19.361223Z",
     "iopub.status.busy": "2022-10-19T06:02:19.360610Z",
     "iopub.status.idle": "2022-10-19T06:02:19.530554Z",
     "shell.execute_reply": "2022-10-19T06:02:19.529556Z"
    },
    "papermill": {
     "duration": 0.183949,
     "end_time": "2022-10-19T06:02:19.532757",
     "exception": false,
     "start_time": "2022-10-19T06:02:19.348808",
     "status": "completed"
    },
    "tags": []
   },
   "outputs": [
    {
     "data": {
      "text/plain": [
       "<AxesSubplot:>"
      ]
     },
     "execution_count": 20,
     "metadata": {},
     "output_type": "execute_result"
    },
    {
     "data": {
      "image/png": "[encoded data removed]",
      "text/plain": [
       "<Figure size 432x288 with 1 Axes>"
      ]
     },
     "metadata": {
      "needs_background": "light"
     },
     "output_type": "display_data"
    }
   ],
   "source": [
    "df['book_table'].value_counts().plot(kind='bar')"
   ]
  },
  {
   "cell_type": "markdown",
   "id": "056455a2",
   "metadata": {
    "papermill": {
     "duration": 0.010448,
     "end_time": "2022-10-19T06:02:19.554037",
     "exception": false,
     "start_time": "2022-10-19T06:02:19.543589",
     "status": "completed"
    },
    "tags": []
   },
   "source": [
    "top location by a votes"
   ]
  },
  {
   "cell_type": "code",
   "execution_count": 21,
   "id": "42e83b96",
   "metadata": {
    "execution": {
     "iopub.execute_input": "2022-10-19T06:02:19.577754Z",
     "iopub.status.busy": "2022-10-19T06:02:19.577355Z",
     "iopub.status.idle": "2022-10-19T06:02:19.802740Z",
     "shell.execute_reply": "2022-10-19T06:02:19.801764Z"
    },
    "papermill": {
     "duration": 0.239703,
     "end_time": "2022-10-19T06:02:19.804961",
     "exception": false,
     "start_time": "2022-10-19T06:02:19.565258",
     "status": "completed"
    },
    "tags": []
   },
   "outputs": [
    {
     "data": {
      "text/plain": [
       "<AxesSubplot:xlabel='location'>"
      ]
     },
     "execution_count": 21,
     "metadata": {},
     "output_type": "execute_result"
    },
    {
     "data": {
      "image/png": "[encoded data removed]",
      "text/plain": [
       "<Figure size 432x288 with 1 Axes>"
      ]
     },
     "metadata": {
      "needs_background": "light"
     },
     "output_type": "display_data"
    }
   ],
   "source": [
    "df.groupby('location').agg({'votes':'median'}).sort_values('votes',ascending=False).head().plot(kind='bar')"
   ]
  },
  {
   "cell_type": "code",
   "execution_count": 22,
   "id": "e8eaa5e1",
   "metadata": {
    "execution": {
     "iopub.execute_input": "2022-10-19T06:02:19.829502Z",
     "iopub.status.busy": "2022-10-19T06:02:19.829116Z",
     "iopub.status.idle": "2022-10-19T06:02:20.087472Z",
     "shell.execute_reply": "2022-10-19T06:02:20.086377Z"
    },
    "papermill": {
     "duration": 0.273688,
     "end_time": "2022-10-19T06:02:20.090210",
     "exception": false,
     "start_time": "2022-10-19T06:02:19.816522",
     "status": "completed"
    },
    "tags": []
   },
   "outputs": [
    {
     "name": "stderr",
     "output_type": "stream",
     "text": [
      "/opt/conda/lib/python3.7/site-packages/seaborn/_decorators.py:43: FutureWarning: Pass the following variable as a keyword arg: x. From version 0.12, the only valid positional argument will be `data`, and passing other arguments without an explicit keyword will result in an error or misinterpretation.\n",
      "  FutureWarning\n"
     ]
    },
    {
     "data": {
      "text/plain": [
       "<AxesSubplot:xlabel='listed_in', ylabel='count'>"
      ]
     },
     "execution_count": 22,
     "metadata": {},
     "output_type": "execute_result"
    },
    {
     "data": {
      "image/png": "[encoded data removed]",
      "text/plain": [
       "<Figure size 864x360 with 1 Axes>"
      ]
     },
     "metadata": {
      "needs_background": "light"
     },
     "output_type": "display_data"
    }
   ],
   "source": [
    "plt.figure(figsize=(12,5))\n",
    "sns.countplot(df[\"listed_in\"],palette='twilight_shifted')"
   ]
  },
  {
   "cell_type": "markdown",
   "id": "4e65c3a0",
   "metadata": {
    "papermill": {
     "duration": 0.011046,
     "end_time": "2022-10-19T06:02:20.112997",
     "exception": false,
     "start_time": "2022-10-19T06:02:20.101951",
     "status": "completed"
    },
    "tags": []
   },
   "source": [
    "total count show in rest_type"
   ]
  },
  {
   "cell_type": "code",
   "execution_count": 23,
   "id": "2d73373a",
   "metadata": {
    "execution": {
     "iopub.execute_input": "2022-10-19T06:02:20.137988Z",
     "iopub.status.busy": "2022-10-19T06:02:20.137433Z",
     "iopub.status.idle": "2022-10-19T06:02:21.948463Z",
     "shell.execute_reply": "2022-10-19T06:02:21.947409Z"
    },
    "papermill": {
     "duration": 1.827496,
     "end_time": "2022-10-19T06:02:21.951682",
     "exception": false,
     "start_time": "2022-10-19T06:02:20.124186",
     "status": "completed"
    },
    "tags": []
   },
   "outputs": [
    {
     "data": {
      "text/plain": [
       "<AxesSubplot:xlabel='count', ylabel='rest_type'>"
      ]
     },
     "execution_count": 23,
     "metadata": {},
     "output_type": "execute_result"
    },
    {
     "data": {
      "image/png": "[encoded data removed]",
      "text/plain": [
       "<Figure size 1440x1440 with 1 Axes>"
      ]
     },
     "metadata": {
      "needs_background": "light"
     },
     "output_type": "display_data"
    }
   ],
   "source": [
    "plt.figure(figsize=[20,20])\n",
    "sns.countplot(y='rest_type', data=df)"
   ]
  },
  {
   "cell_type": "markdown",
   "id": "fe4f3cc9",
   "metadata": {
    "papermill": {
     "duration": 0.013634,
     "end_time": "2022-10-19T06:02:21.980450",
     "exception": false,
     "start_time": "2022-10-19T06:02:21.966816",
     "status": "completed"
    },
    "tags": []
   },
   "source": [
    "Most famous restaurant considering parameter like rate,vote,cost\n"
   ]
  },
  {
   "cell_type": "code",
   "execution_count": 24,
   "id": "ffd53317",
   "metadata": {
    "execution": {
     "iopub.execute_input": "2022-10-19T06:02:22.008956Z",
     "iopub.status.busy": "2022-10-19T06:02:22.008600Z",
     "iopub.status.idle": "2022-10-19T06:02:22.315365Z",
     "shell.execute_reply": "2022-10-19T06:02:22.314613Z"
    },
    "papermill": {
     "duration": 0.323214,
     "end_time": "2022-10-19T06:02:22.317274",
     "exception": false,
     "start_time": "2022-10-19T06:02:21.994060",
     "status": "completed"
    },
    "tags": []
   },
   "outputs": [
    {
     "data": {
      "text/plain": [
       "<AxesSubplot:ylabel='rest_type'>"
      ]
     },
     "execution_count": 24,
     "metadata": {},
     "output_type": "execute_result"
    },
    {
     "data": {
      "image/png": "[encoded data removed]",
      "text/plain": [
       "<Figure size 720x360 with 1 Axes>"
      ]
     },
     "metadata": {
      "needs_background": "light"
     },
     "output_type": "display_data"
    }
   ],
   "source": [
    "q=df.groupby('rest_type')['rate'].count()\n",
    "plt.figure(figsize=[10,5])\n",
    "tg=q.sort_values(ascending=False).head(20)\n",
    "tg.values\n",
    "sns.lineplot(y=tg.index,x=tg.values)"
   ]
  },
  {
   "cell_type": "code",
   "execution_count": 25,
   "id": "7f6ba54f",
   "metadata": {
    "execution": {
     "iopub.execute_input": "2022-10-19T06:02:22.347014Z",
     "iopub.status.busy": "2022-10-19T06:02:22.346141Z",
     "iopub.status.idle": "2022-10-19T06:02:23.533238Z",
     "shell.execute_reply": "2022-10-19T06:02:23.532169Z"
    },
    "papermill": {
     "duration": 1.204602,
     "end_time": "2022-10-19T06:02:23.535506",
     "exception": false,
     "start_time": "2022-10-19T06:02:22.330904",
     "status": "completed"
    },
    "tags": []
   },
   "outputs": [
    {
     "data": {
      "text/plain": [
       "<AxesSubplot:xlabel='count', ylabel='approx_cost'>"
      ]
     },
     "execution_count": 25,
     "metadata": {},
     "output_type": "execute_result"
    },
    {
     "data": {
      "image/png": "[encoded data removed]",
      "text/plain": [
       "<Figure size 1440x1440 with 1 Axes>"
      ]
     },
     "metadata": {
      "needs_background": "light"
     },
     "output_type": "display_data"
    }
   ],
   "source": [
    "plt.figure(figsize=[20,20])\n",
    "sns.countplot(y='approx_cost', data=df)"
   ]
  },
  {
   "cell_type": "code",
   "execution_count": null,
   "id": "a50f2db5",
   "metadata": {
    "papermill": {
     "duration": 0.014583,
     "end_time": "2022-10-19T06:02:23.564779",
     "exception": false,
     "start_time": "2022-10-19T06:02:23.550196",
     "status": "completed"
    },
    "tags": []
   },
   "outputs": [],
   "source": []
  },
  {
   "cell_type": "code",
   "execution_count": null,
   "id": "c578b775",
   "metadata": {
    "papermill": {
     "duration": 0.014201,
     "end_time": "2022-10-19T06:02:23.593462",
     "exception": false,
     "start_time": "2022-10-19T06:02:23.579261",
     "status": "completed"
    },
    "tags": []
   },
   "outputs": [],
   "source": []
  }
 ],
 "metadata": {
  "kernelspec": {
   "display_name": "Python 3",
   "language": "python",
   "name": "python3"
  },
  "language_info": {
   "codemirror_mode": {
    "name": "ipython",
    "version": 3
   },
   "file_extension": ".py",
   "mimetype": "text/x-python",
   "name": "python",
   "nbconvert_exporter": "python",
   "pygments_lexer": "ipython3",
   "version": "3.7.12"
  },
  "papermill": {
   "default_parameters": {},
   "duration": 27.49802,
   "end_time": "2022-10-19T06:02:24.431008",
   "environment_variables": {},
   "exception": null,
   "input_path": "__notebook__.ipynb",
   "output_path": "__notebook__.ipynb",
   "parameters": {},
   "start_time": "2022-10-19T06:01:56.932988",
   "version": "2.3.4"
  }
 },
 "nbformat": 4,
 "nbformat_minor": 5
}
